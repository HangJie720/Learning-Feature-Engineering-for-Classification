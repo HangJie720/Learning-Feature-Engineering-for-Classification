{
 "cells": [
  {
   "cell_type": "code",
   "execution_count": 1,
   "metadata": {
    "collapsed": false
   },
   "outputs": [],
   "source": [
    "import openml as oml\n",
    "import pandas as pd\n",
    "import numpy as np\n",
    "import os.path\n",
    "from sklearn import preprocessing, ensemble"
   ]
  },
  {
   "cell_type": "code",
   "execution_count": 2,
   "metadata": {
    "collapsed": false
   },
   "outputs": [],
   "source": [
    "apikey = '69d4637f30ad46247c165c0cf1920f0e'\n",
    "oml.config.apikey = apikey"
   ]
  },
  {
   "cell_type": "code",
   "execution_count": 3,
   "metadata": {
    "collapsed": false
   },
   "outputs": [],
   "source": [
    "datasets = oml.datasets.list_datasets()"
   ]
  },
  {
   "cell_type": "code",
   "execution_count": 4,
   "metadata": {
    "collapsed": false
   },
   "outputs": [],
   "source": [
    "datasets = pd.DataFrame(datasets)\n",
    "datasets = datasets.T"
   ]
  },
  {
   "cell_type": "code",
   "execution_count": 5,
   "metadata": {
    "collapsed": false
   },
   "outputs": [
    {
     "data": {
      "text/plain": [
       "Index(['MajorityClassSize', 'MaxNominalAttDistinctValues', 'MinorityClassSize',\n",
       "       'NumberOfClasses', 'NumberOfFeatures', 'NumberOfInstances',\n",
       "       'NumberOfInstancesWithMissingValues', 'NumberOfMissingValues',\n",
       "       'NumberOfNumericFeatures', 'NumberOfSymbolicFeatures', 'did', 'format',\n",
       "       'name', 'status'],\n",
       "      dtype='object')"
      ]
     },
     "execution_count": 5,
     "metadata": {},
     "output_type": "execute_result"
    }
   ],
   "source": [
    "datasets.columns"
   ]
  },
  {
   "cell_type": "code",
   "execution_count": 6,
   "metadata": {
    "collapsed": false
   },
   "outputs": [
    {
     "data": {
      "text/plain": [
       "257754"
      ]
     },
     "execution_count": 6,
     "metadata": {},
     "output_type": "execute_result"
    }
   ],
   "source": [
    "datasets[datasets['format'] == 'ARFF'].size"
   ]
  },
  {
   "cell_type": "code",
   "execution_count": 31,
   "metadata": {
    "collapsed": false
   },
   "outputs": [
    {
     "name": "stderr",
     "output_type": "stream",
     "text": [
      "C:\\Users\\Andrea\\Anaconda3\\lib\\site-packages\\ipykernel\\__main__.py:1: UserWarning: Boolean Series key will be reindexed to match DataFrame index.\n",
      "  if __name__ == '__main__':\n"
     ]
    }
   ],
   "source": [
    "filtered_dataset = datasets[datasets[\"NumberOfFeatures\"] < 20]\\\n",
    "                           [datasets['NumberOfNumericFeatures']>0]\\\n",
    "                           [datasets['NumberOfClasses'] < 20]\\\n",
    "                           [datasets['NumberOfInstances'] > 50]\n",
    "\n",
    "dids = list(filtered_dataset['did'].index)"
   ]
  },
  {
   "cell_type": "code",
   "execution_count": 8,
   "metadata": {
    "collapsed": false
   },
   "outputs": [],
   "source": [
    "final_ds = fd2[fd2['NumberOfInstances'] > 100]"
   ]
  },
  {
   "cell_type": "code",
   "execution_count": 30,
   "metadata": {
    "collapsed": false
   },
   "outputs": [],
   "source": [
    "def download_datasets(dids, path):\n",
    "    i = 0\n",
    "\n",
    "    for did in dids:\n",
    "        try:\n",
    "\n",
    "            if not os.path.isfile(str(did) + \"-data\"):\n",
    "                ds = oml.datasets.get_dataset(did)\n",
    "                X,y,categorical = ds.get_data(target=ds.default_target_attribute,return_categorical_indicator=True)\n",
    "                np.save(path + \"/\" + str(did) + \"-data\",X)\n",
    "                np.save(path + \"/\" + str(did) + \"-target\",y)\n",
    "                np.save(path + \"/\" + str(did) + \"-categorical\",categorical)\n",
    "\n",
    "        except:\n",
    "            i = i+1\n",
    "            print(\"Dataset with id \" + str(did))\n",
    "\n",
    "    print(str(i) + \" datasets were impossible to download\")"
   ]
  },
  {
   "cell_type": "code",
   "execution_count": 11,
   "metadata": {
    "collapsed": false
   },
   "outputs": [],
   "source": [
    "np.save(\"indexes\", dids)"
   ]
  },
  {
   "cell_type": "code",
   "execution_count": 26,
   "metadata": {
    "collapsed": false
   },
   "outputs": [
    {
     "name": "stderr",
     "output_type": "stream",
     "text": [
      "C:\\Users\\Andrea\\Anaconda3\\lib\\site-packages\\ipykernel\\__main__.py:1: UserWarning: Boolean Series key will be reindexed to match DataFrame index.\n",
      "  if __name__ == '__main__':\n"
     ]
    }
   ],
   "source": [
    "new_data = datasets[datasets['NumberOfClasses'] == 2]\\\n",
    "                   [datasets[\"NumberOfNumericFeatures\"]>0]\\\n",
    "                   [datasets[\"MinorityClassSize\"]>100]\\\n",
    "                   [datasets[\"NumberOfNumericFeatures\"]<20]\\\n",
    "                   [datasets[\"NumberOfMissingValues\"] < 20]"
   ]
  },
  {
   "cell_type": "code",
   "execution_count": 28,
   "metadata": {
    "collapsed": false
   },
   "outputs": [],
   "source": [
    "new_dids = list(new_data['did'].index)"
   ]
  },
  {
   "cell_type": "code",
   "execution_count": null,
   "metadata": {
    "collapsed": false
   },
   "outputs": [],
   "source": [
    "download_datasets(new_dids, \"binary_problems\")"
   ]
  },
  {
   "cell_type": "code",
   "execution_count": null,
   "metadata": {
    "collapsed": true
   },
   "outputs": [],
   "source": []
  }
 ],
 "metadata": {
  "anaconda-cloud": {},
  "kernelspec": {
   "display_name": "Python [conda root]",
   "language": "python",
   "name": "conda-root-py"
  },
  "language_info": {
   "codemirror_mode": {
    "name": "ipython",
    "version": 3
   },
   "file_extension": ".py",
   "mimetype": "text/x-python",
   "name": "python",
   "nbconvert_exporter": "python",
   "pygments_lexer": "ipython3",
   "version": "3.5.2"
  }
 },
 "nbformat": 4,
 "nbformat_minor": 2
}
