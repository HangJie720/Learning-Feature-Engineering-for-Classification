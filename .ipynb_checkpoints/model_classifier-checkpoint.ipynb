{
 "cells": [
  {
   "cell_type": "code",
   "execution_count": 1,
   "metadata": {
    "collapsed": false
   },
   "outputs": [
    {
     "name": "stderr",
     "output_type": "stream",
     "text": [
      "Using TensorFlow backend.\n"
     ]
    }
   ],
   "source": [
    "import pandas as pd\n",
    "import numpy as np\n",
    "import h5py\n",
    "import math\n",
    "\n",
    "from keras.models import Sequential, model_from_json\n",
    "from keras.layers import Dense, Dropout, Activation, regularizers, Flatten\n",
    "\n",
    "from sklearn import ensemble, preprocessing, multiclass\n",
    "from sklearn.preprocessing import Imputer\n",
    "from sklearn.model_selection import cross_val_score, train_test_split\n",
    "\n",
    "\n",
    "from collections import Counter"
   ]
  },
  {
   "cell_type": "code",
   "execution_count": 2,
   "metadata": {
    "collapsed": true
   },
   "outputs": [],
   "source": [
    "# Transformation\n",
    "\n",
    "def sqrt(col):\n",
    "    return list(map(np.sqrt, col));\n",
    "\n",
    "def freq(col):\n",
    "    col = np.floor(col)\n",
    "    counter = Counter(col)\n",
    "    return [counter.get(elem) for elem in col]\n"
   ]
  },
  {
   "cell_type": "code",
   "execution_count": 3,
   "metadata": {
    "collapsed": true
   },
   "outputs": [],
   "source": [
    "# Globals\n",
    "\n",
    "# Datasets\n",
    "dids = np.load(\"datasets/indexes.npy\")\n",
    "\n",
    "# RF model parameters\n",
    "seed = 67\n",
    "transformations = [sqrt, freq]\n",
    "transformations_name = [\"sqrt\", \"freq\"]\n",
    "trans2target = {}\n",
    "\n",
    "# Comrpessed Dataset paramters\n",
    "qsa_representation = []\n",
    "num_bin = 10\n",
    "too_big = 100000\n",
    "\n",
    "# Neural Nets Parameters and Variables\n",
    "MLP_LFE_Nets = {}\n",
    "inp_shape = (2,num_bin)\n",
    "dropout = 0.2\n",
    "norm = (0, 10)\n",
    "pred_threshold = 0.1\n"
   ]
  },
  {
   "cell_type": "code",
   "execution_count": 4,
   "metadata": {
    "collapsed": true
   },
   "outputs": [],
   "source": [
    "#def binarize_dataset():\n",
    "\n",
    "def load_dataset(id):\n",
    "    X = np.load(\"datasets/\" + str(id) + \"-data.npy\")\n",
    "    y = np.load(\"datasets/\" + str(id) + \"-target.npy\")\n",
    "    categorical = np.load(\"datasets/\" + str(id) + \"-categorical.npy\")\n",
    "    return X,y,categorical\n",
    "\n",
    "    \n",
    "def evaluate_model(X, y, categorical):\n",
    "    imp = Imputer(missing_values=\"NaN\")\n",
    "    X = imp.fit_transform(X)\n",
    "    enc = preprocessing.OneHotEncoder(categorical_features=categorical)\n",
    "    X = enc.fit_transform(X)\n",
    "    clf = ensemble.RandomForestClassifier(random_state=seed)\n",
    "    #clf_ovsr = multiclass.OneVsRestClassifier(clf, n_jobs=-1)\n",
    "    \n",
    "    return cross_val_score(clf, X, y,cv=10)\n",
    "    \n",
    "def is_positive(X,y,categorical,base_score,transformation,feature):\n",
    "    transformed_feature = np.array(transformation(X[:,feature]))\n",
    "    X = np.c_[X,transformed_feature]\n",
    "    categorical = np.append(categorical,False)\n",
    "    new_score = evaluate_model(X,y,categorical).mean()\n",
    "    \n",
    "    return 1 if(base_score <= (new_score - 0.01)) else 0\n",
    "\n",
    "def is_positive_2(X, y, categorical, base_score, transformation, feature):\n",
    "    transformed_feature = np.array(transformation(X[:,feature]))\n",
    "    new_score = evaluate_model(transformed_feature.reshape(-1,1),y,[False]).mean()\n",
    "    \n",
    "    return 1 if(base_score <= (new_score - 0.005)) else 0\n",
    "\n",
    "def is_positive_3(X, y, categorical, base_score, transformation, feature):\n",
    "    transformed_feature = np.array(transformation(X[:,feature]))\n",
    "    new_score = evaluate_model(transformed_feature.reshape(-1,1),y,[False]).mean()\n",
    "    \n",
    "    return 1 if(new_score > base_score*1.01) else 0\n",
    "    \n",
    "    "
   ]
  },
  {
   "cell_type": "code",
   "execution_count": 6,
   "metadata": {
    "collapsed": false
   },
   "outputs": [],
   "source": [
    "# Build the target for the compressed feature\n",
    "bad_datasets = []\n",
    "\n",
    "def build_target_for_compressed(dids):\n",
    "\n",
    "    for transf in transformations:\n",
    "        trans2target[transf] = []\n",
    "\n",
    "    \n",
    "    for did in dids[:100]:\n",
    "        print(\"Start dataset number\", did)\n",
    "        \n",
    "        try:\n",
    "\n",
    "            X, y, categorical = load_dataset(did)       \n",
    "\n",
    "            new_indexes = []\n",
    "\n",
    "            if(X.shape[0] > too_big):\n",
    "                new_indexes = np.random.choice(X.shape[0], too_big, replace=False)\n",
    "                X = X[new_indexes]\n",
    "                y = y[new_indexes]\n",
    "\n",
    "            base_score = evaluate_model(X, y, categorical).mean()\n",
    "\n",
    "            # Find the indexes of numeric attributes\n",
    "            numerical_indexes = np.where(np.invert(categorical))[0]\n",
    "\n",
    "            for i,transf in enumerate(transformations):\n",
    "                for feature in numerical_indexes:\n",
    "\n",
    "                    print(\"\\tEvaluating feature \" + str(feature))\n",
    "\n",
    "                    mlp_target = is_positive_2(X,y,categorical,base_score,transf, feature)\n",
    "\n",
    "                    print(\"\\t\\t\" + str(mlp_target))\n",
    "\n",
    "                    trans2target[transf].append((did,feature,mlp_target))\n",
    "        except:\n",
    "                print(\"The evaluation of dataset \" + str(did) + \" failed\")\n",
    "                bad_datasets.append(did)\n",
    "                continue"
   ]
  },
  {
   "cell_type": "code",
   "execution_count": 7,
   "metadata": {
    "collapsed": true
   },
   "outputs": [],
   "source": [
    "# Save the result\n",
    "def save_target_for_compressed(path):\n",
    "\n",
    "    for transf, name in zip(transformations, transformations_name):\n",
    "        np.save(path + name, trans2target[transf])"
   ]
  },
  {
   "cell_type": "code",
   "execution_count": 8,
   "metadata": {
    "collapsed": true
   },
   "outputs": [],
   "source": [
    "def normalize_Rx(matrix):\n",
    "    \n",
    "    Rxc = np.zeros(shape=matrix.shape)\n",
    "    \n",
    "    for i,row in enumerate(matrix):\n",
    "        max_c = np.amax(row)\n",
    "        min_c = np.amin(row)\n",
    "        bin_width = (max_c-min_c)/(norm[1]-norm[0])\n",
    "        Rxc[i] = np.apply_along_axis(lambda x : np.floor((x-min_c)/(bin_width)+norm[0]), 0, row)\n",
    "    \n",
    "    return Rxc\n",
    "\n",
    "def to_quantile_sketch_array(did, col, targets, bins, t_class, index):\n",
    "    max_c = np.nanmax(col)\n",
    "    min_c = np.nanmin(col)\n",
    "    bin_width = (max_c-min_c)/num_bin\n",
    "    Rx = np.zeros(shape=(2,num_bin))\n",
    "    \n",
    "    if(bin_width == 0):\n",
    "        return\n",
    "    \n",
    "    for val,y in zip(col,targets):\n",
    "        if not np.isnan(val):\n",
    "            bin_value = int(np.floor((val-min_c)/bin_width))\n",
    "            bin_value = np.clip(bin_value, 0, num_bin-1)\n",
    "            my_class = 0 if t_class == y else 1\n",
    "            Rx[my_class][bin_value] = Rx[my_class][bin_value] + 1\n",
    "            \n",
    "    Rx = normalize_Rx(Rx)\n",
    "\n",
    "    qsa_representation.append(np.insert(Rx.flatten(), 0, [did,index]))"
   ]
  },
  {
   "cell_type": "code",
   "execution_count": 9,
   "metadata": {
    "collapsed": true
   },
   "outputs": [],
   "source": [
    "# Build the compressed dataset\n",
    "def build_compressed_dataset(dids):\n",
    "\n",
    "    qsa_representation = []\n",
    "\n",
    "    for did in dids[:100]:\n",
    "        print(\"Start dataset number\", did)\n",
    "\n",
    "        try:\n",
    "            X, y, categorical = load_dataset(did)\n",
    "        except:\n",
    "            print(\"Dataset \" + str(did) + \" not found\")\n",
    "            continue;\n",
    "\n",
    "        new_indexes = []\n",
    "\n",
    "        if(X.shape[0] > too_big):\n",
    "            new_indexes = np.random.choice(X.shape[0], too_big, replace=False)\n",
    "            X = X[new_indexes]\n",
    "            y = y[new_indexes]\n",
    "\n",
    "        numerical_indexes = np.where(np.invert(categorical))[0]\n",
    "\n",
    "        classes = set(y)\n",
    "\n",
    "        for t_class in classes:\n",
    "            for index in numerical_indexes:\n",
    "                to_quantile_sketch_array(did,X[:,index], y, num_bin, t_class, index)\n",
    "        \n",
    "    "
   ]
  },
  {
   "cell_type": "code",
   "execution_count": 10,
   "metadata": {
    "collapsed": true
   },
   "outputs": [],
   "source": [
    "# Save the compressed datasets\n",
    "def save_compressed_dataset(path):\n",
    "    np.save(path + \"compressed.npy\", qsa_representation)"
   ]
  },
  {
   "cell_type": "code",
   "execution_count": 11,
   "metadata": {
    "collapsed": true
   },
   "outputs": [],
   "source": [
    "# CREATING THE NEURAL NETS\n",
    "\n",
    "def initialize_MLPs():\n",
    "    \n",
    "    for transf in transformations_name:\n",
    "        model = Sequential()\n",
    "\n",
    "        model.add(Dense(64, input_shape=inp_shape, W_regularizer=regularizers.l2(0.01)))\n",
    "        model.add(Activation('softmax'))\n",
    "        model.add(Dropout(dropout))\n",
    "        model.add(Flatten())\n",
    "        model.add(Dense(output_dim=1))\n",
    "        model.add(Activation('relu'))\n",
    "\n",
    "        # For a binary classification problem\n",
    "        model.compile(optimizer='rmsprop',\n",
    "                      loss='binary_crossentropy',\n",
    "                      metrics=['accuracy'])\n",
    "\n",
    "        MLP_LFE_Nets[transf] = model\n",
    "    "
   ]
  },
  {
   "cell_type": "code",
   "execution_count": 12,
   "metadata": {
    "collapsed": true
   },
   "outputs": [],
   "source": [
    "\n",
    "def load_compressed_ds():\n",
    "    data = np.load(\"datasets/compressed/compressed.npy\")\n",
    "    return pd.DataFrame(data)\n",
    "\n",
    "\n",
    "def assemble_training_set(compressed, transformation_targets):\n",
    "    targetDf = pd.DataFrame(transformation_targets)\n",
    "    merged = pd.merge(compressed, targetDf, how='left', on=[0, 1])\n",
    "    class_1 = merged.ix[:,4:num_bin + 4].values\n",
    "    class_2 = merged.ix[:,num_bin + 4:-1].values\n",
    "    target = np.array(merged.ix[:,-1].values)\n",
    "    meta_inf = np.array(merged.ix[:,:2].values)\n",
    "    meta_target = np.c_[target, meta_inf]\n",
    "    X = []\n",
    "    \n",
    "    for c1, c2 in zip(class_1, class_2):\n",
    "        X.append([c1,c2])    \n",
    "\n",
    "    return np.array(X), np.array(meta_target)\n",
    "\n",
    "\n",
    "def split_training_test():\n",
    "    compressed_ds = load_compressed_ds()\n",
    "\n",
    "    for transf, name in zip(transformations, transformations_name):\n",
    "        transformation_targets = np.load(\"datasets/compressed/\" + name + \".npy\")\n",
    "        X,y = assemble_training_set(compressed_ds, transformation_targets)\n",
    "        \n",
    "        X_s_tr, X_s_test, y_s_tr, y_s_test = train_test_split(X, y, test_size=0.2)\n",
    "        \n",
    "        # Dropping the meta-info from training set\n",
    "        y_s_tr = y_s_tr[:,:1]\n",
    "        \n",
    "        np.save(\"datasets/training/\" + name + \"-data_split\",X_s_tr)\n",
    "        np.save(\"datasets/training/\" + name + \"-target_split\",y_s_tr)\n",
    "        np.save(\"datasets/test/\" + name + \"-data_split\",X_s_test)\n",
    "        np.save(\"datasets/test/\" + name + \"-target_split\",y_s_test)\n",
    "\n",
    "        \n",
    "    \n",
    "        \n",
    "def load_training_set(transf):\n",
    "    \n",
    "    X = np.load(\"datasets/training/\" + transf + \"-data_split.npy\")\n",
    "    y = np.load(\"datasets/training/\" + transf + \"-target_split.npy\")\n",
    "    \n",
    "    return X,y\n"
   ]
  },
  {
   "cell_type": "code",
   "execution_count": 13,
   "metadata": {
    "collapsed": true
   },
   "outputs": [],
   "source": [
    "def balance_dataset(X, y, pos_perc = 0.5):\n",
    "    X = np.array(X)\n",
    "    y = np.array(y)\n",
    "\n",
    "    cnt = Counter(y)\n",
    "\n",
    "    neg_num = cnt[0]\n",
    "    pos_num = cnt[1]\n",
    "\n",
    "    neg_index = (y == 0)\n",
    "    pos_index = (y == 1)\n",
    "\n",
    "    X_pos = X[pos_index]\n",
    "    X_neg = X[neg_index]\n",
    "    y_pos = y[pos_index]\n",
    "    y_neg = y[neg_index]\n",
    "\n",
    "    if pos_perc >= 0.5:\n",
    "        if pos_num <= neg_num:\n",
    "            sample_neg_num = int(X_pos.shape[0] * (1/pos_perc - 1))\n",
    "            print(sample_neg_num)\n",
    "            neg_sampled_indexes = np.random.choice(X_neg.shape[0], sample_neg_num, replace=False)\n",
    "            X_neg = X_neg[neg_sampled_indexes]\n",
    "            y_neg = y_neg[neg_sampled_indexes]\n",
    "\n",
    "        else:\n",
    "            sample_neg_ideal_size = int(X_pos.shape[0] * (1/pos_perc - 1))\n",
    "\n",
    "            if(sample_neg_ideal_size > X_neg.shape[0]):\n",
    "                sample_pos_num = int(X_neg.shape[0] * (1/(1-pos_perc) - 1))\n",
    "                pos_sampled_indexes = np.random.choice(X_pos.shape[0], sample_pos_num, replace=False)\n",
    "                X_pos = X_pos[pos_sampled_indexes]\n",
    "                y_pos = y_pos[pos_sampled_indexes]\n",
    "            else:\n",
    "                neg_sampled_indexes = np.random.choice(X_neg.shape[0], sample_neg_ideal_size, replace=False) \n",
    "                X_neg = X_neg[neg_sampled_indexes]\n",
    "                y_neg = y_neg[neg_sampled_indexes]\n",
    "    else:\n",
    "        if pos_num <= neg_num:\n",
    "            sample_pos_ideal_size = int(X_neg.shape[0] * (1/(1-pos_perc) - 1))\n",
    "\n",
    "            if(sample_pos_ideal_size > X_pos.shape[0]):\n",
    "                sample_neg_num = int(X_pos.shape[0] * (1/pos_perc - 1))\n",
    "                neg_sampled_indexes = np.random.choice(X_neg.shape[0], sample_neg_num, replace=False)\n",
    "                X_neg = X_neg[neg_sampled_indexes]\n",
    "                y_neg = y_neg[neg_sampled_indexes]\n",
    "            else:\n",
    "                pos_sampled_indexes = np.random.choice(X_pos.shape[0], sample_pos_ideal_size, replace=False) \n",
    "                X_pos = X_pos[pos_sampled_indexes]\n",
    "                y_pos = y_pos[pos_sampled_indexes]\n",
    "        else:\n",
    "            sample_pos_num = int(X_neg.shape[0] * (1/(1-pos_perc) - 1))\n",
    "            pos_sampled_indexes = np.random.choice(X_pos.shape[0], sample_pos_num, replace=False)\n",
    "            X_pos = X_pos[pos_sampled_indexes]\n",
    "            y_pos = y_pos[pos_sampled_indexes]\n",
    "\n",
    "\n",
    "\n",
    "\n",
    "    X = np.concatenate((X_pos, X_neg), axis=0)\n",
    "    y = np.concatenate((y_pos, y_neg) , axis=0)      \n",
    "\n",
    "    shuffle_index = np.random.choice(X.shape[0], X.shape[0], replace=False)\n",
    "\n",
    "    X = X[shuffle_index]\n",
    "    y = y[shuffle_index]\n",
    "\n",
    "    return X,y"
   ]
  },
  {
   "cell_type": "code",
   "execution_count": 14,
   "metadata": {
    "collapsed": true
   },
   "outputs": [],
   "source": [
    "# Training the nets\n",
    "\n",
    "def train_MLPs():\n",
    "\n",
    "    for transf, name in zip(transformations, transformations_name):\n",
    "        \n",
    "        X, y = load_training_set(name)\n",
    "        \n",
    "        X, y = balance_dataset(X, y.reshape(y.shape[0]), pos_perc=0.5)\n",
    "        \n",
    "        y = y.reshape(y.shape[0],1)\n",
    "\n",
    "        MLP_LFE_Nets[name].summary()\n",
    "        print (\"Inputs: {}\".format(MLP_LFE_Nets[name].input_shape))\n",
    "        print (\"Outputs: {}\".format(MLP_LFE_Nets[name].output_shape))\n",
    "        print (\"Actual input: {}\".format(X.shape))\n",
    "        print (\"Actual output: {}\".format(y.shape))   \n",
    "\n",
    "        MLP_LFE_Nets[name].fit(X, y)       \n"
   ]
  },
  {
   "cell_type": "code",
   "execution_count": 16,
   "metadata": {
    "collapsed": true
   },
   "outputs": [],
   "source": [
    "\n",
    "def save_MLPs():\n",
    "    for transf in transformations_name:\n",
    "        MLP_LFE_Nets[transf].save_weights(\"datasets/MLPs/\" + transf + \"-weights\")\n",
    "        model_json = MLP_LFE_Nets[transf].to_json()\n",
    "        with open(\"datasets/MLPs/\" + transf + \"-net_model\", \"w\") as f:\n",
    "            f.write(model_json)\n",
    "\n",
    "def load_MLPs():\n",
    "    \n",
    "    for name in transformations_name:\n",
    "        json_file = open('datasets/MLPs/' + name + \"-net_model\", 'r')\n",
    "        loaded_model_json = json_file.read()\n",
    "        json_file.close()\n",
    "        loaded_model = model_from_json(loaded_model_json)\n",
    "        \n",
    "        # load weights into new model\n",
    "        loaded_model.load_weights(\"datasets/MLPs/\" + name + \"-weights\")\n",
    "\n",
    "        # evaluate loaded model on test data\n",
    "        loaded_model.compile(optimizer='rmsprop',\n",
    "                             loss='binary_crossentropy',\n",
    "                             metrics=['accuracy'])\n",
    "        \n",
    "        MLP_LFE_Nets[name] = loaded_model\n",
    "   "
   ]
  },
  {
   "cell_type": "code",
   "execution_count": 17,
   "metadata": {
    "collapsed": true
   },
   "outputs": [],
   "source": [
    "def load_test_set():\n",
    "    \n",
    "    X = np.load(\"datasets/test/\" + transformations_name[0] + \"-data_split.npy\")\n",
    "    y_meta = np.load(\"datasets/test/\" + transformations_name[0] + \"-target_split.npy\")\n",
    "    t = np.full((y_meta.shape[0],1), 0)\n",
    "    y_meta = np.concatenate((y_meta, t), axis=1)\n",
    "    \n",
    "    for i,name in enumerate(transformations_name[1:]):\n",
    "        X = np.concatenate((X, np.load(\"datasets/test/\" + name + \"-data_split.npy\")), axis=0)\n",
    "        y_meta_tmp = np.load(\"datasets/test/\" + name + \"-target_split.npy\")\n",
    "        t = np.full((y_meta_tmp.shape[0],1),i+1)\n",
    "        y_meta_tmp = np.concatenate((y_meta_tmp, t), axis=1)\n",
    "        y_meta = np.concatenate((y_meta, y_meta_tmp), axis=0)\n",
    "    \n",
    "    return X,y_meta"
   ]
  },
  {
   "cell_type": "code",
   "execution_count": 2,
   "metadata": {
    "collapsed": true
   },
   "outputs": [],
   "source": [
    "# Test the accuracy on a dataset\n",
    "\n",
    "def evaluate_transformation_classifier():\n",
    "    \n",
    "    # Number of prediction on features\n",
    "    num_of_prediction = {}\n",
    "    # Number of correct prediction on features\n",
    "    num_of_correct_prediction = {}\n",
    "    # Number of dataset which received a prediction\n",
    "    good_predicted_dids = set()\n",
    "    num_of_predicted_dataset = 0\n",
    "    \n",
    "    pred_mat = []\n",
    "    \n",
    "    X, y_meta = load_test_set()\n",
    "    \n",
    "    for transf in transformations_name:\n",
    "        pred_mat.append(MLP_LFE_Nets[transf].predict(X))\n",
    "        num_of_prediction[transf] = 0\n",
    "        num_of_correct_prediction[transf] = 0\n",
    "        \n",
    "    pred_mat = np.array(pred_mat).transpose()\n",
    "    \n",
    "    for predictions,did,feature in zip(pred_mat[0],y_meta[:,1], y_meta[:,2]):\n",
    "        pmax = np.amax(predictions)\n",
    "        \n",
    "        if pmax > pred_threshold:\n",
    "            index = np.where(predictions==pmax)[0][0]\n",
    "            print(index)\n",
    "            num_of_prediction[transformations_name[index]] += 1\n",
    "            \n",
    "            # Select the target for the transformation and the dataset\n",
    "            positive_example_found =  np.where((y_meta[:,0] == 1)       &  \\\n",
    "                                               (y_meta[:,1] == did)     &  \\\n",
    "                                               (y_meta[:,2] == feature) &  \\\n",
    "                                               (y_meta[:,3] == index))     \\\n",
    "                                                                       [0].shape[0] > 0\n",
    "            \n",
    "            if(positive_example_found):\n",
    "                good_predicted_dids.add(did) \n",
    "                num_of_correct_prediction[transformations_name[index]] += 1\n",
    "    \n",
    "    if(num_of_prediction == 0):\n",
    "        print(\"No predictions have been made\")\n",
    "        return\n",
    "    \n",
    "    for transf in transformations_name:\n",
    "        print(\"Evalutation of the transformation classifier: \" + transf)\n",
    "        print(\"\\tNumber of prediction:\", num_of_prediction[transf])\n",
    "        print(\"\\tNumber of Correct prediciton:\", num_of_correct_prediction[transf])\n",
    "        print(\"Accuracy:\", num_of_correct_prediction[transf]/num_of_prediction[transf])\n",
    "        \n",
    "    print(\"\\n\")    \n",
    "    print(\"Number of datasets who received a good prediction:\", len(good_predicted_dids))\n",
    "    \n"
   ]
  },
  {
   "cell_type": "markdown",
   "metadata": {},
   "source": [
    "# Build and Preprocess the Dataset"
   ]
  },
  {
   "cell_type": "code",
   "execution_count": null,
   "metadata": {
    "collapsed": true
   },
   "outputs": [],
   "source": [
    "\n",
    "build_target_for_compressed(dids)\n",
    "save_target_for_compressed(\"datasets/compressed/\")\n",
    "    "
   ]
  },
  {
   "cell_type": "markdown",
   "metadata": {},
   "source": [
    "# Build and Preprocess the Dataset"
   ]
  },
  {
   "cell_type": "code",
   "execution_count": null,
   "metadata": {
    "collapsed": true
   },
   "outputs": [],
   "source": [
    "\n",
    "build_compressed_dataset(dids)\n",
    "save_compressed_dataset(\"datasets/compressed/\")\n"
   ]
  },
  {
   "cell_type": "markdown",
   "metadata": {},
   "source": [
    "# Train Test Split"
   ]
  },
  {
   "cell_type": "code",
   "execution_count": null,
   "metadata": {
    "collapsed": true
   },
   "outputs": [],
   "source": [
    "\n",
    "split_training_test()\n"
   ]
  },
  {
   "cell_type": "markdown",
   "metadata": {},
   "source": [
    "\n",
    "# Train the MLPs\n"
   ]
  },
  {
   "cell_type": "code",
   "execution_count": null,
   "metadata": {
    "collapsed": false
   },
   "outputs": [
    {
     "name": "stdout",
     "output_type": "stream",
     "text": [
      "35\n",
      "____________________________________________________________________________________________________\n",
      "Layer (type)                     Output Shape          Param #     Connected to                     \n",
      "====================================================================================================\n",
      "dense_5 (Dense)                  (None, 2, 64)         704         dense_input_3[0][0]              \n",
      "____________________________________________________________________________________________________\n",
      "activation_5 (Activation)        (None, 2, 64)         0           dense_5[0][0]                    \n",
      "____________________________________________________________________________________________________\n",
      "dropout_3 (Dropout)              (None, 2, 64)         0           activation_5[0][0]               \n",
      "____________________________________________________________________________________________________\n",
      "flatten_3 (Flatten)              (None, 128)           0           dropout_3[0][0]                  \n",
      "____________________________________________________________________________________________________\n",
      "dense_6 (Dense)                  (None, 1)             129         flatten_3[0][0]                  \n",
      "____________________________________________________________________________________________________\n",
      "activation_6 (Activation)        (None, 1)             0           dense_6[0][0]                    \n",
      "====================================================================================================\n",
      "Total params: 833\n",
      "Trainable params: 833\n",
      "Non-trainable params: 0\n",
      "____________________________________________________________________________________________________\n",
      "Inputs: (None, 2, 10)\n",
      "Outputs: (None, 1)\n",
      "Actual input: (70, 2, 10)\n",
      "Actual output: (70, 1)\n",
      "Epoch 1/10\n"
     ]
    }
   ],
   "source": [
    "\n",
    "initialize_MLPs()\n",
    "train_MLPs()\n",
    "#save_MLPs()\n"
   ]
  },
  {
   "cell_type": "markdown",
   "metadata": {},
   "source": [
    "# Load the nets"
   ]
  },
  {
   "cell_type": "code",
   "execution_count": null,
   "metadata": {
    "collapsed": true
   },
   "outputs": [],
   "source": [
    "\n",
    "load_MLPs()\n"
   ]
  },
  {
   "cell_type": "markdown",
   "metadata": {},
   "source": [
    "\n",
    "# Test the nets\n"
   ]
  },
  {
   "cell_type": "code",
   "execution_count": 20,
   "metadata": {
    "collapsed": false
   },
   "outputs": [
    {
     "ename": "KeyError",
     "evalue": "'sqrt'",
     "output_type": "error",
     "traceback": [
      "\u001b[0;31m---------------------------------------------------------------------------\u001b[0m",
      "\u001b[0;31mKeyError\u001b[0m                                  Traceback (most recent call last)",
      "\u001b[0;32m<ipython-input-20-19faa31d001d>\u001b[0m in \u001b[0;36m<module>\u001b[0;34m()\u001b[0m\n\u001b[1;32m      1\u001b[0m \u001b[1;33m\u001b[0m\u001b[0m\n\u001b[0;32m----> 2\u001b[0;31m \u001b[0mevaluate_transformation_classifier\u001b[0m\u001b[1;33m(\u001b[0m\u001b[1;33m)\u001b[0m\u001b[1;33m\u001b[0m\u001b[0m\n\u001b[0m",
      "\u001b[0;32m<ipython-input-18-f0ba6e8650a3>\u001b[0m in \u001b[0;36mevaluate_transformation_classifier\u001b[0;34m()\u001b[0m\n\u001b[1;32m     16\u001b[0m \u001b[1;33m\u001b[0m\u001b[0m\n\u001b[1;32m     17\u001b[0m     \u001b[1;32mfor\u001b[0m \u001b[0mtransf\u001b[0m \u001b[1;32min\u001b[0m \u001b[0mtransformations_name\u001b[0m\u001b[1;33m:\u001b[0m\u001b[1;33m\u001b[0m\u001b[0m\n\u001b[0;32m---> 18\u001b[0;31m         \u001b[0mpred_mat\u001b[0m\u001b[1;33m.\u001b[0m\u001b[0mappend\u001b[0m\u001b[1;33m(\u001b[0m\u001b[0mMLP_LFE_Nets\u001b[0m\u001b[1;33m[\u001b[0m\u001b[0mtransf\u001b[0m\u001b[1;33m]\u001b[0m\u001b[1;33m.\u001b[0m\u001b[0mpredict\u001b[0m\u001b[1;33m(\u001b[0m\u001b[0mX\u001b[0m\u001b[1;33m)\u001b[0m\u001b[1;33m)\u001b[0m\u001b[1;33m\u001b[0m\u001b[0m\n\u001b[0m\u001b[1;32m     19\u001b[0m \u001b[1;33m\u001b[0m\u001b[0m\n\u001b[1;32m     20\u001b[0m     \u001b[0mpred_mat\u001b[0m \u001b[1;33m=\u001b[0m \u001b[0mnp\u001b[0m\u001b[1;33m.\u001b[0m\u001b[0marray\u001b[0m\u001b[1;33m(\u001b[0m\u001b[0mpred_mat\u001b[0m\u001b[1;33m)\u001b[0m\u001b[1;33m.\u001b[0m\u001b[0mtranspose\u001b[0m\u001b[1;33m(\u001b[0m\u001b[1;33m)\u001b[0m\u001b[1;33m\u001b[0m\u001b[0m\n",
      "\u001b[0;31mKeyError\u001b[0m: 'sqrt'"
     ]
    }
   ],
   "source": [
    "\n",
    "evaluate_transformation_classifier()\n"
   ]
  },
  {
   "cell_type": "code",
   "execution_count": null,
   "metadata": {
    "collapsed": true
   },
   "outputs": [],
   "source": []
  },
  {
   "cell_type": "code",
   "execution_count": null,
   "metadata": {
    "collapsed": true
   },
   "outputs": [],
   "source": []
  },
  {
   "cell_type": "code",
   "execution_count": null,
   "metadata": {
    "collapsed": true
   },
   "outputs": [],
   "source": []
  }
 ],
 "metadata": {
  "anaconda-cloud": {},
  "kernelspec": {
   "display_name": "Python [default]",
   "language": "python",
   "name": "python3"
  },
  "language_info": {
   "codemirror_mode": {
    "name": "ipython",
    "version": 3
   },
   "file_extension": ".py",
   "mimetype": "text/x-python",
   "name": "python",
   "nbconvert_exporter": "python",
   "pygments_lexer": "ipython3",
   "version": "3.5.2"
  }
 },
 "nbformat": 4,
 "nbformat_minor": 1
}
